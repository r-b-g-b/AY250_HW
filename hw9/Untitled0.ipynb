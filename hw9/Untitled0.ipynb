{
 "metadata": {
  "name": ""
 },
 "nbformat": 3,
 "nbformat_minor": 0,
 "worksheets": [
  {
   "cells": [
    {
     "cell_type": "code",
     "collapsed": false,
     "input": [
      "from IPython.parallel import Client\n",
      "import multiprocessing\n",
      "import time\n",
      "import numpy as np\n",
      "import pandas as pd"
     ],
     "language": "python",
     "metadata": {},
     "outputs": [
      {
       "output_type": "stream",
       "stream": "stderr",
       "text": [
        "/Users/robert/anaconda/lib/python2.7/site-packages/pytz/__init__.py:35: UserWarning: Module argparse was already imported from /Users/robert/anaconda/python.app/Contents/lib/python2.7/argparse.pyc, but /Users/robert/anaconda/lib/python2.7/site-packages is being added to sys.path\n",
        "  from pkg_resources import resource_stream\n"
       ]
      }
     ],
     "prompt_number": 1
    },
    {
     "cell_type": "code",
     "collapsed": false,
     "input": [
      "# start IPython engines\n",
      "rc = Client()\n",
      "engines = rc[:]\n",
      "nengines = len(engines)\n",
      "print nengines"
     ],
     "language": "python",
     "metadata": {},
     "outputs": [
      {
       "output_type": "stream",
       "stream": "stdout",
       "text": [
        "2\n"
       ]
      }
     ],
     "prompt_number": 2
    },
    {
     "cell_type": "code",
     "collapsed": false,
     "input": [
      "# start multiprocessing pool\n",
      "ncpus = multiprocessing.cpu_count()\n",
      "pool = multiprocessing.Pool(processes=ncpus)\n",
      "print ncpus"
     ],
     "language": "python",
     "metadata": {},
     "outputs": [
      {
       "output_type": "stream",
       "stream": "stdout",
       "text": [
        "2\n"
       ]
      }
     ],
     "prompt_number": 2
    },
    {
     "cell_type": "code",
     "collapsed": false,
     "input": [
      "n_exps = range(2, 4) # 10**n\n",
      "print n_exps"
     ],
     "language": "python",
     "metadata": {},
     "outputs": [
      {
       "output_type": "stream",
       "stream": "stdout",
       "text": [
        "[2, 3]\n"
       ]
      }
     ],
     "prompt_number": 3
    },
    {
     "cell_type": "markdown",
     "metadata": {},
     "source": [
      "### Run serial, IPython parallel, and multiprocessing parallel"
     ]
    },
    {
     "cell_type": "code",
     "collapsed": false,
     "input": [
      "df = pd.DataFrame(columns = ['type', 'time', 'nthrows', 'simrate'])\n",
      "for n_exp in n_exps:\n",
      "    n = 10**n_exp\n",
      "    n -= n%nengines # make sure the nthrows is a multiple of nengines\n",
      "    for i in range(1):\n",
      "        \n",
      "        # run serial\n",
      "        time_elapsed = run_serial(n)\n",
      "        df = df.append(dict(type='serial', time=time_elapsed, nthrows=n_exp), ignore_index=True)\n",
      "        \n",
      "        # run IPython parallel\n",
      "        time_elapsed = run_ipython_parallel(engines, n)\n",
      "        df = df.append(dict(type='parallel_ipython', time=time_elapsed, nthrows=n_exp), ignore_index=True)\n",
      "        \n",
      "        # run multiprocessing parallel\n",
      "        time_elapsed= run_multiproc_parallel(pool, n)\n",
      "        df = df.append(dict(type='parallel_multiproc', time=time_elapsed, nthrows=n_exp), ignore_index=True)"
     ],
     "language": "python",
     "metadata": {},
     "outputs": [],
     "prompt_number": "*"
    },
    {
     "cell_type": "markdown",
     "metadata": {},
     "source": [
      "### Plot"
     ]
    },
    {
     "cell_type": "code",
     "collapsed": false,
     "input": [
      "df['simrate'] = 10**df.nthrows / df.time\n",
      "gp = df.groupby(('type', 'nthrows'))"
     ],
     "language": "python",
     "metadata": {},
     "outputs": [],
     "prompt_number": "*"
    },
    {
     "cell_type": "code",
     "collapsed": false,
     "input": [
      "time_means = gp.time.apply(np.mean).unstack('type')\n",
      "time_errs = gp.time.apply(np.std).unstack('type')\n",
      "simrate_means = gp.simrate.apply(np.mean).unstack('type')\n",
      "simrate_errs = gp.simrate.apply(np.std).unstack('type')\n",
      "print time_means\n",
      "print simrate_means"
     ],
     "language": "python",
     "metadata": {},
     "outputs": [],
     "prompt_number": "*"
    },
    {
     "cell_type": "code",
     "collapsed": false,
     "input": [
      "%matplotlib inline\n",
      "fig, ax1 = plt.subplots()\n",
      "ax2 = plt.twinx(ax1)\n",
      "keys = ['serial', 'parallel_ipython', 'parallel_multiproc']\n",
      "for key in keys:\n",
      "    ax1.errorbar(n_exps, time_means[key], yerr=time_errs[key], marker='.', label=key);\n",
      "    ax2.errorbar(n_exps, simrate_means[key], yerr=simrate_errs[key], ls='--', marker='.');\n",
      "ax1.legend(loc='best');"
     ],
     "language": "python",
     "metadata": {},
     "outputs": [],
     "prompt_number": "*"
    },
    {
     "cell_type": "markdown",
     "metadata": {},
     "source": [
      "### Run IPython parallel"
     ]
    },
    {
     "cell_type": "code",
     "collapsed": false,
     "input": [
      "len(engines)"
     ],
     "language": "python",
     "metadata": {},
     "outputs": [
      {
       "metadata": {},
       "output_type": "pyout",
       "prompt_number": 6,
       "text": [
        "2"
       ]
      }
     ],
     "prompt_number": 6
    },
    {
     "cell_type": "code",
     "collapsed": false,
     "input": [
      "def run_ipython_parallel(engines, nthrows):\n",
      "    tic = time.time()\n",
      "    pi_est = engines.apply_sync(throw, nthrows/len(engines))\n",
      "    toc = time.time()\n",
      "    time_elapsed = toc-tic\n",
      "    pi_est = 4. * float(sum(pi_est)) / nthrows\n",
      "    return time_elapsed"
     ],
     "language": "python",
     "metadata": {},
     "outputs": [],
     "prompt_number": 4
    },
    {
     "cell_type": "markdown",
     "metadata": {},
     "source": [
      "### Run multiprocessing parallel"
     ]
    },
    {
     "cell_type": "code",
     "collapsed": false,
     "input": [
      "def run_multiproc_parallel(pool, nthrows):\n",
      "    tic = time.time()\n",
      "    pi_est = pool.apply(throw, [nthrows/multiprocessing.cpu_count()])\n",
      "    toc = time.time()\n",
      "    time_elapsed = toc-tic\n",
      "    pi_est = 4. * float(sum(pi_ext)) / nthrows\n",
      "    return time_elapsed"
     ],
     "language": "python",
     "metadata": {},
     "outputs": [],
     "prompt_number": 5
    },
    {
     "cell_type": "markdown",
     "metadata": {},
     "source": [
      "### Run serial"
     ]
    },
    {
     "cell_type": "code",
     "collapsed": false,
     "input": [
      "def run_serial(nthrows):\n",
      "    tic = time.time()\n",
      "    throw(nthrows)\n",
      "    toc = time.time()\n",
      "    time_elapsed = toc-tic\n",
      "    return time_elapsed"
     ],
     "language": "python",
     "metadata": {},
     "outputs": [],
     "prompt_number": 6
    },
    {
     "cell_type": "markdown",
     "metadata": {},
     "source": [
      "### Throw n darts"
     ]
    },
    {
     "cell_type": "code",
     "collapsed": false,
     "input": [
      "from random import uniform\n",
      "def throw(n):\n",
      "    nhits = 0\n",
      "    for i in xrange(n):\n",
      "        if sum([uniform(0, 1)**2, uniform(0, 1)**2])<1:\n",
      "            nhits += 1\n",
      "    return nhits"
     ],
     "language": "python",
     "metadata": {},
     "outputs": [],
     "prompt_number": 4
    }
   ],
   "metadata": {}
  }
 ]
}