{
 "metadata": {
  "name": ""
 },
 "nbformat": 3,
 "nbformat_minor": 0,
 "worksheets": [
  {
   "cells": [
    {
     "cell_type": "code",
     "collapsed": false,
     "input": [
      "from IPython.parallel import Client\n",
      "import multiprocessing\n",
      "import time\n",
      "import numpy as np\n",
      "import pandas as pd"
     ],
     "language": "python",
     "metadata": {},
     "outputs": [],
     "prompt_number": 179
    },
    {
     "cell_type": "code",
     "collapsed": false,
     "input": [
      "engines = Client()\n",
      "nengines = len(engines)"
     ],
     "language": "python",
     "metadata": {},
     "outputs": [],
     "prompt_number": 121
    },
    {
     "cell_type": "code",
     "collapsed": false,
     "input": [
      "n_exps = range(2, 6) # 10**n\n",
      "print n_exps"
     ],
     "language": "python",
     "metadata": {},
     "outputs": [
      {
       "output_type": "stream",
       "stream": "stdout",
       "text": [
        "[2, 3, 4, 5]\n"
       ]
      }
     ],
     "prompt_number": 165
    },
    {
     "cell_type": "markdown",
     "metadata": {},
     "source": [
      "### Run serial, IPython parallel, and multiprocessing parallel"
     ]
    },
    {
     "cell_type": "code",
     "collapsed": false,
     "input": [
      "df = pd.DataFrame(columns = ['type', 'time', 'nthrows', 'simrate'])\n",
      "for n_exp in n_exps:\n",
      "    n = 10**n_exp\n",
      "    n -= n%nengines # make sure the nthrows is a multiple of nengines\n",
      "    for i in range(10):\n",
      "        \n",
      "        # run serial\n",
      "        time_elapsed = run_serial(n)\n",
      "        df = df.append(dict(type='serial', time=time_elapsed, nthrows=n_exp), ignore_index=True)\n",
      "        \n",
      "        # run IPython parallel\n",
      "        time_elapsed = run_ipython_parallel(engines, n)\n",
      "        df = df.append(dict(type='parallel_ipython', time=time_elapsed, nthrows=n_exp), ignore_index=True)\n",
      "        \n",
      "        # run multiprocessing parallel\n",
      "        time_elapsed= run_multiproc_parallel(n)\n",
      "        df = df.append(dict(type='parallel_multiproc', time=time_elapsed, nthrows=n_exp), ignore_index=True)"
     ],
     "language": "python",
     "metadata": {},
     "outputs": [
      {
       "output_type": "stream",
       "stream": "stdout",
       "text": [
        "100\n",
        "1000"
       ]
      },
      {
       "output_type": "stream",
       "stream": "stdout",
       "text": [
        "\n",
        "10000"
       ]
      },
      {
       "output_type": "stream",
       "stream": "stdout",
       "text": [
        "\n",
        "100000"
       ]
      },
      {
       "output_type": "stream",
       "stream": "stdout",
       "text": [
        "\n"
       ]
      }
     ],
     "prompt_number": 171
    },
    {
     "cell_type": "markdown",
     "metadata": {},
     "source": [
      "### Plot"
     ]
    },
    {
     "cell_type": "code",
     "collapsed": false,
     "input": [
      "df['simrate'] = 10**df.nthrows / df.time\n",
      "gp = df.groupby(('type', 'nthrows'))"
     ],
     "language": "python",
     "metadata": {},
     "outputs": [],
     "prompt_number": 182
    },
    {
     "cell_type": "code",
     "collapsed": false,
     "input": [
      "time_means = gp.time.apply(np.mean).unstack('type')\n",
      "time_errs = gp.time.apply(np.std).unstack('type')\n",
      "simrate_means = gp.simrate.apply(np.mean).unstack('type')\n",
      "simrate_errs = gp.simrate.apply(np.std).unstack('type')\n",
      "print time_means\n",
      "print simrate_means"
     ],
     "language": "python",
     "metadata": {},
     "outputs": [
      {
       "output_type": "stream",
       "stream": "stdout",
       "text": [
        "type     parallel_ipython    serial\n",
        "nthrows                            \n",
        "2                0.015365  0.000333\n",
        "3                0.012851  0.002818\n",
        "4                0.025107  0.028388\n",
        "5                0.212003  0.289106\n",
        "type     parallel_ipython         serial\n",
        "nthrows                                 \n",
        "2             7005.331401  309673.167434\n",
        "3            81524.716006  354931.566121\n",
        "4           398756.059158  353305.770886\n",
        "5           523921.358863  347074.085651\n"
       ]
      }
     ],
     "prompt_number": 195
    },
    {
     "cell_type": "code",
     "collapsed": false,
     "input": [
      "fig, ax1 = plt.subplots()\n",
      "ax2 = plt.twinx(ax1)\n",
      "keys = ['serial', 'parallel_ipython']\n",
      "for key in keys:\n",
      "    ax1.errorbar(n_exps, time_means[key], yerr=time_errs[key], marker='.', label=key);\n",
      "    ax2.errorbar(n_exps, simrate_means[key], yerr=simrate_errs[key], ls='--', marker='.');\n",
      "ax1.legend(loc='best')"
     ],
     "language": "python",
     "metadata": {},
     "outputs": [
      {
       "metadata": {},
       "output_type": "pyout",
       "prompt_number": 200,
       "text": [
        "<matplotlib.legend.Legend at 0x1093651d0>"
       ]
      },
      {
       "metadata": {},
       "output_type": "display_data",
       "png": "[encoded data removed]",
       "text": [
        "<matplotlib.figure.Figure at 0x109048d90>"
       ]
      }
     ],
     "prompt_number": 200
    },
    {
     "cell_type": "code",
     "collapsed": false,
     "input": [
      "fig, ax = plt.subplots()\n",
      "np.log10(time_means).plot(marker='.', ax=ax);\n",
      "ax.set_xlabel('log10( N throws )');\n",
      "ax.set_ylabel('log10( duration )');\n"
     ],
     "language": "python",
     "metadata": {},
     "outputs": [
      {
       "metadata": {},
       "output_type": "display_data",
       "png": "[encoded data removed]",
       "text": [
        "<matplotlib.figure.Figure at 0x1074d2290>"
       ]
      }
     ],
     "prompt_number": 178
    },
    {
     "cell_type": "code",
     "collapsed": false,
     "input": [
      "%matplotlib inline\n",
      "from matplotlib import pyplot as plt\n",
      "fig, ax = plt.subplots()\n",
      "# ax.semilogy(ns, time_means, yerr=time_errs)\n",
      "ax.errorbar(ns, np.log10(time_means), yerr=time_errs);"
     ],
     "language": "python",
     "metadata": {},
     "outputs": []
    },
    {
     "cell_type": "markdown",
     "metadata": {},
     "source": [
      "### Run IPython parallel"
     ]
    },
    {
     "cell_type": "code",
     "collapsed": false,
     "input": [
      "def run_ipython_parallel(engines, nthrows):\n",
      "    tic = time.time()\n",
      "    pi_est = engines.apply_sync(throw, nthrows/len(engines))\n",
      "    toc = time.time()\n",
      "    time_elapsed = toc-tic\n",
      "    pi_est = 4. * float(sum(pi_est)) / nthrows\n",
      "    return time_elapsed"
     ],
     "language": "python",
     "metadata": {},
     "outputs": [],
     "prompt_number": 201
    },
    {
     "cell_type": "markdown",
     "metadata": {},
     "source": [
      "### Run multiprocessing parallel"
     ]
    },
    {
     "cell_type": "code",
     "collapsed": false,
     "input": [
      "from multiprocessing import Pool, cpu_count\n",
      "ncpus = cpu_count()\n",
      "pool = Pool(ncpus)"
     ],
     "language": "python",
     "metadata": {},
     "outputs": [],
     "prompt_number": 205
    },
    {
     "cell_type": "code",
     "collapsed": false,
     "input": [],
     "language": "python",
     "metadata": {},
     "outputs": []
    },
    {
     "cell_type": "code",
     "collapsed": false,
     "input": [
      "from multiprocessing import Pool, cpu_count\n",
      "def run_multiproc_parallel(pool, nthrows):\n",
      "    pool.apply_sync(throw, []"
     ],
     "language": "python",
     "metadata": {},
     "outputs": []
    },
    {
     "cell_type": "markdown",
     "metadata": {},
     "source": [
      "### Run serial"
     ]
    },
    {
     "cell_type": "code",
     "collapsed": false,
     "input": [
      "def run_serial(nthrows):\n",
      "    tic = time.time()\n",
      "    throw(nthrows)\n",
      "    toc = time.time()\n",
      "    time_elapsed = toc-tic\n",
      "    return time_elapsed"
     ],
     "language": "python",
     "metadata": {},
     "outputs": [],
     "prompt_number": 128
    },
    {
     "cell_type": "markdown",
     "metadata": {},
     "source": [
      "### Use scatter/gather"
     ]
    },
    {
     "cell_type": "markdown",
     "metadata": {},
     "source": [
      "### Throw n darts"
     ]
    },
    {
     "cell_type": "code",
     "collapsed": false,
     "input": [
      "def throw(n):\n",
      "    from random import uniform\n",
      "    nhits = 0\n",
      "    for i in xrange(n):\n",
      "        if sum([uniform(0, 1)**2, uniform(0, 1)**2])<1:\n",
      "            nhits += 1\n",
      "    return nhits"
     ],
     "language": "python",
     "metadata": {},
     "outputs": [],
     "prompt_number": 49
    },
    {
     "cell_type": "code",
     "collapsed": false,
     "input": [],
     "language": "python",
     "metadata": {},
     "outputs": []
    }
   ],
   "metadata": {}
  }
 ]
}