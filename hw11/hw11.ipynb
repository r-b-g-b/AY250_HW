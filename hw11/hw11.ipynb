{
 "metadata": {
  "name": ""
 },
 "nbformat": 3,
 "nbformat_minor": 0,
 "worksheets": [
  {
   "cells": [
    {
     "cell_type": "code",
     "collapsed": false,
     "input": [
      "import pandas as pd\n",
      "import pymc\n",
      "from pymc import MCMC\n",
      "from IPython.display import HTML\n",
      "from matplotlib import pyplot as plt\n",
      "%matplotlib inline"
     ],
     "language": "python",
     "metadata": {},
     "outputs": [
      {
       "output_type": "stream",
       "stream": "stderr",
       "text": [
        "/Users/robert/anaconda/lib/python2.7/site-packages/pytz/__init__.py:35: UserWarning: Module argparse was already imported from /Users/robert/anaconda/python.app/Contents/lib/python2.7/argparse.pyc, but /Users/robert/anaconda/lib/python2.7/site-packages is being added to sys.path\n",
        "  from pkg_resources import resource_stream\n"
       ]
      }
     ],
     "prompt_number": 1
    },
    {
     "cell_type": "markdown",
     "metadata": {},
     "source": [
      "### Load the data"
     ]
    },
    {
     "cell_type": "code",
     "collapsed": false,
     "input": [
      "df = pd.read_csv('laa_2011_april.txt', sep='\\t', index_col=0)\n",
      "HTML(df.head().to_html())"
     ],
     "language": "python",
     "metadata": {},
     "outputs": [
      {
       "html": [
        "<table border=\"1\" class=\"dataframe\">\n",
        "  <thead>\n",
        "    <tr style=\"text-align: right;\">\n",
        "      <th></th>\n",
        "      <th>Player</th>\n",
        "      <th>Team</th>\n",
        "      <th>Pos</th>\n",
        "      <th>G</th>\n",
        "      <th>AB</th>\n",
        "      <th>R</th>\n",
        "      <th>H</th>\n",
        "      <th>2B</th>\n",
        "      <th>3B</th>\n",
        "      <th>HR</th>\n",
        "      <th>RBI</th>\n",
        "      <th>BB</th>\n",
        "      <th>SO</th>\n",
        "      <th>SB</th>\n",
        "      <th>CS</th>\n",
        "      <th>AVG</th>\n",
        "      <th>OBP</th>\n",
        "      <th>SLG</th>\n",
        "      <th>OPS</th>\n",
        "    </tr>\n",
        "    <tr>\n",
        "      <th>RK</th>\n",
        "      <th></th>\n",
        "      <th></th>\n",
        "      <th></th>\n",
        "      <th></th>\n",
        "      <th></th>\n",
        "      <th></th>\n",
        "      <th></th>\n",
        "      <th></th>\n",
        "      <th></th>\n",
        "      <th></th>\n",
        "      <th></th>\n",
        "      <th></th>\n",
        "      <th></th>\n",
        "      <th></th>\n",
        "      <th></th>\n",
        "      <th></th>\n",
        "      <th></th>\n",
        "      <th></th>\n",
        "      <th></th>\n",
        "    </tr>\n",
        "  </thead>\n",
        "  <tbody>\n",
        "    <tr>\n",
        "      <th>1</th>\n",
        "      <td>    Aybar, E</td>\n",
        "      <td> LAA</td>\n",
        "      <td> SS</td>\n",
        "      <td> 12</td>\n",
        "      <td>  47</td>\n",
        "      <td>  3</td>\n",
        "      <td> 17</td>\n",
        "      <td> 3</td>\n",
        "      <td> 0</td>\n",
        "      <td> 0</td>\n",
        "      <td>  3</td>\n",
        "      <td>  0</td>\n",
        "      <td>  4</td>\n",
        "      <td> 4</td>\n",
        "      <td> 0</td>\n",
        "      <td> 0.362</td>\n",
        "      <td> 0.362</td>\n",
        "      <td> 0.426</td>\n",
        "      <td> 0.787</td>\n",
        "    </tr>\n",
        "    <tr>\n",
        "      <th>2</th>\n",
        "      <td>  Izturis, M</td>\n",
        "      <td> LAA</td>\n",
        "      <td> 3B</td>\n",
        "      <td> 20</td>\n",
        "      <td>  81</td>\n",
        "      <td>  8</td>\n",
        "      <td> 25</td>\n",
        "      <td> 7</td>\n",
        "      <td> 0</td>\n",
        "      <td> 2</td>\n",
        "      <td>  8</td>\n",
        "      <td>  6</td>\n",
        "      <td> 14</td>\n",
        "      <td> 2</td>\n",
        "      <td> 2</td>\n",
        "      <td> 0.309</td>\n",
        "      <td> 0.356</td>\n",
        "      <td> 0.469</td>\n",
        "      <td> 0.825</td>\n",
        "    </tr>\n",
        "    <tr>\n",
        "      <th>3</th>\n",
        "      <td> Kendrick, H</td>\n",
        "      <td> LAA</td>\n",
        "      <td> 2B</td>\n",
        "      <td> 26</td>\n",
        "      <td> 104</td>\n",
        "      <td> 19</td>\n",
        "      <td> 32</td>\n",
        "      <td> 6</td>\n",
        "      <td> 1</td>\n",
        "      <td> 6</td>\n",
        "      <td> 12</td>\n",
        "      <td> 11</td>\n",
        "      <td> 22</td>\n",
        "      <td> 1</td>\n",
        "      <td> 0</td>\n",
        "      <td> 0.308</td>\n",
        "      <td> 0.385</td>\n",
        "      <td> 0.558</td>\n",
        "      <td> 0.942</td>\n",
        "    </tr>\n",
        "    <tr>\n",
        "      <th>4</th>\n",
        "      <td> Callaspo, A</td>\n",
        "      <td> LAA</td>\n",
        "      <td> 3B</td>\n",
        "      <td> 24</td>\n",
        "      <td>  89</td>\n",
        "      <td> 13</td>\n",
        "      <td> 27</td>\n",
        "      <td> 3</td>\n",
        "      <td> 0</td>\n",
        "      <td> 2</td>\n",
        "      <td>  8</td>\n",
        "      <td> 12</td>\n",
        "      <td> 10</td>\n",
        "      <td> 0</td>\n",
        "      <td> 0</td>\n",
        "      <td> 0.303</td>\n",
        "      <td> 0.386</td>\n",
        "      <td> 0.404</td>\n",
        "      <td> 0.791</td>\n",
        "    </tr>\n",
        "    <tr>\n",
        "      <th>5</th>\n",
        "      <td>  Bourjos, P</td>\n",
        "      <td> LAA</td>\n",
        "      <td> CF</td>\n",
        "      <td> 26</td>\n",
        "      <td>  90</td>\n",
        "      <td> 10</td>\n",
        "      <td> 27</td>\n",
        "      <td> 5</td>\n",
        "      <td> 4</td>\n",
        "      <td> 2</td>\n",
        "      <td>  9</td>\n",
        "      <td>  5</td>\n",
        "      <td> 28</td>\n",
        "      <td> 2</td>\n",
        "      <td> 4</td>\n",
        "      <td> 0.300</td>\n",
        "      <td> 0.333</td>\n",
        "      <td> 0.511</td>\n",
        "      <td> 0.844</td>\n",
        "    </tr>\n",
        "  </tbody>\n",
        "</table>"
       ],
       "metadata": {},
       "output_type": "pyout",
       "prompt_number": 2,
       "text": [
        "<IPython.core.display.HTML at 0x1027c7310>"
       ]
      }
     ],
     "prompt_number": 2
    },
    {
     "cell_type": "markdown",
     "metadata": {},
     "source": [
      "## (a) Maximum Likelihood Estimate of batting averages"
     ]
    },
    {
     "cell_type": "code",
     "collapsed": false,
     "input": [
      "avg_mle_april = df.H / df.AB.astype(float)\n",
      "print 'Maximum Likelihood Estimate for each player'\n",
      "print avg_mle_april"
     ],
     "language": "python",
     "metadata": {},
     "outputs": [
      {
       "output_type": "stream",
       "stream": "stdout",
       "text": [
        "Maximum Likelihood Estimate for each player\n",
        "RK\n",
        "1     0.361702\n",
        "2     0.308642\n",
        "3     0.307692\n",
        "4     0.303371\n",
        "5     0.300000\n",
        "6     0.272727\n",
        "7     0.258427\n",
        "8     0.250000\n",
        "8     0.250000\n",
        "10    0.213592\n",
        "11    0.171429\n",
        "12    0.152174\n",
        "14    0.125000\n",
        "dtype: float64\n"
       ]
      }
     ],
     "prompt_number": 3
    },
    {
     "cell_type": "markdown",
     "metadata": {},
     "source": [
      "### Describe the model and save it to a file"
     ]
    },
    {
     "cell_type": "code",
     "collapsed": false,
     "input": [
      "%%file BattingAverage.py\n",
      "import pymc\n",
      "import pandas as pd\n",
      "\n",
      "def calc_alpha_beta(mu=0.255, sigma2=0.011):\n",
      "    '''\n",
      "    For a desired mean and variance, calculate the\n",
      "    alpha and beta parameters for the Beta distribution\n",
      "    '''\n",
      "    k = mu/(1-mu)\n",
      "    beta = (k-(sigma2*((1+k)**2))) / (sigma2*((1+k)**3))\n",
      "    alpha = k*beta\n",
      "    return alpha, beta\n",
      "\n",
      "# read the data\n",
      "df = pd.read_csv('laa_2011_april.txt', sep='\\t')\n",
      "atbats = df.AB\n",
      "hits_obs = df.H\n",
      "\n",
      "# league batting average and variance\n",
      "mu = 0.255\n",
      "sigma2 = 0.011\n",
      "alpha, beta = calc_alpha_beta(mu=mu, sigma2=sigma2)\n",
      "\n",
      "# define batting average prior as a Beta distribution\n",
      "avg = pymc.Beta('avg', alpha=alpha, beta=beta, size=len(df))\n",
      "    \n",
      "# likelihood\n",
      "hits_pred = pymc.Binomial('hits_pred', n=atbats, p=avg, value=hits_obs, observed=True)"
     ],
     "language": "python",
     "metadata": {},
     "outputs": [
      {
       "output_type": "stream",
       "stream": "stdout",
       "text": [
        "Overwriting BattingAverage.py\n"
       ]
      }
     ],
     "prompt_number": 4
    },
    {
     "cell_type": "code",
     "collapsed": false,
     "input": [
      "import BattingAverage\n",
      "\n",
      "# initialize the Markov Chain Monte Carlo model\n",
      "M = MCMC(BattingAverage)"
     ],
     "language": "python",
     "metadata": {},
     "outputs": [],
     "prompt_number": 5
    },
    {
     "cell_type": "markdown",
     "metadata": {},
     "source": [
      "### the prior has the correct mean and variance"
     ]
    },
    {
     "cell_type": "code",
     "collapsed": false,
     "input": [
      "from scipy.stats import beta\n",
      "from IPython.display import Latex\n",
      "\n",
      "B = beta(M.alpha, M.beta)\n",
      "# print 'Beta distribution with'\n",
      "Latex(r\"\"\"Beta distribution with $\\alpha=%.4f$ and $\\beta=%.4f$ yields $\\mu=%.4f$ and $\\sigma^2=%.4f$\n",
      "     \"\"\" % (M.alpha, M.beta, B.mean(), B.var()))"
     ],
     "language": "python",
     "metadata": {},
     "outputs": [
      {
       "latex": [
        "Beta distribution with $\\alpha=4.1490$ and $\\beta=12.1215$ yields $\\mu=0.2550$ and $\\sigma^2=0.0110$\n",
        "     "
       ],
       "metadata": {},
       "output_type": "pyout",
       "prompt_number": 6,
       "text": [
        "<IPython.core.display.Latex at 0x109473550>"
       ]
      }
     ],
     "prompt_number": 6
    },
    {
     "cell_type": "markdown",
     "metadata": {},
     "source": [
      "## (b) Draw samples from the posterior"
     ]
    },
    {
     "cell_type": "code",
     "collapsed": false,
     "input": [
      "M.sample(20000, burn=2000, thin=20)"
     ],
     "language": "python",
     "metadata": {},
     "outputs": [
      {
       "output_type": "stream",
       "stream": "stdout",
       "text": [
        "\r",
        " [-------          19%                  ] 3966 of 20000 complete in 0.5 sec"
       ]
      },
      {
       "output_type": "stream",
       "stream": "stdout",
       "text": [
        "\r",
        " [--------------   38%                  ] 7692 of 20000 complete in 1.0 sec"
       ]
      },
      {
       "output_type": "stream",
       "stream": "stdout",
       "text": [
        "\r",
        " [-----------------58%--                ] 11700 of 20000 complete in 1.5 sec"
       ]
      },
      {
       "output_type": "stream",
       "stream": "stdout",
       "text": [
        "\r",
        " [-----------------78%---------         ] 15763 of 20000 complete in 2.0 sec"
       ]
      },
      {
       "output_type": "stream",
       "stream": "stdout",
       "text": [
        "\r",
        " [-----------------98%----------------- ] 19603 of 20000 complete in 2.5 sec"
       ]
      },
      {
       "output_type": "stream",
       "stream": "stdout",
       "text": [
        "\r",
        " [-----------------100%-----------------] 20000 of 20000 complete in 2.6 sec"
       ]
      }
     ],
     "prompt_number": 7
    },
    {
     "cell_type": "markdown",
     "metadata": {},
     "source": [
      "## (c) Check convergence of MCMC by plotting traces"
     ]
    },
    {
     "cell_type": "code",
     "collapsed": false,
     "input": [
      "fig, axs = plt.subplots(1, 3, figsize=(12, 4));\n",
      "for i in range(3):\n",
      "    axs[i].plot(M.avg.trace[:, i]);\n",
      "    axs[i].set_title('Player %u' % i);\n",
      "axs[0].set_ylabel('Batting average');\n",
      "axs[1].set_xlabel('Sample');"
     ],
     "language": "python",
     "metadata": {},
     "outputs": [
      {
       "metadata": {},
       "output_type": "display_data",
       "png": "[encoded data removed]",
       "text": [
        "<matplotlib.figure.Figure at 0x109372f90>"
       ]
      }
     ],
     "prompt_number": 8
    },
    {
     "cell_type": "markdown",
     "metadata": {},
     "source": [
      "## (d) Posterior mean and 95% CI for each player"
     ]
    },
    {
     "cell_type": "code",
     "collapsed": false,
     "input": [
      "avg_mcmc_mean = M.stats()['avg']['mean']\n",
      "avg_mcmc_ci = M.stats()['avg']['95% HPD interval']\n",
      "\n",
      "print 'MCMC mean for each player'\n",
      "for m, ci in zip(avg_mcmc_mean, avg_mcmc_ci):\n",
      "    print 'Mean: %.4f\\tCI: (%.4f, %.4f)' % (m, ci[0], ci[1])"
     ],
     "language": "python",
     "metadata": {},
     "outputs": [
      {
       "output_type": "stream",
       "stream": "stdout",
       "text": [
        "MCMC mean for each player\n",
        "Mean: 0.3335\tCI: (0.2185, 0.4448)\n",
        "Mean: 0.2992\tCI: (0.2121, 0.3862)\n",
        "Mean: 0.3027\tCI: (0.2182, 0.3706)\n",
        "Mean: 0.2924\tCI: (0.2116, 0.3702)\n",
        "Mean: 0.2876\tCI: (0.2058, 0.3719)\n",
        "Mean: 0.2705\tCI: (0.1668, 0.3865)\n",
        "Mean: 0.2570\tCI: (0.1804, 0.3409)\n",
        "Mean: 0.2607\tCI: (0.1034, 0.4271)\n",
        "Mean: 0.2486\tCI: (0.1566, 0.3250)\n",
        "Mean: 0.2194\tCI: (0.1482, 0.2878)\n",
        "Mean: 0.1818\tCI: (0.1211, 0.2630)\n",
        "Mean: 0.1766\tCI: (0.0882, 0.2675)\n",
        "Mean: 0.2234\tCI: (0.0615, 0.3822)\n"
       ]
      }
     ],
     "prompt_number": 9
    },
    {
     "cell_type": "code",
     "collapsed": false,
     "input": [
      "# transform confidence intervals for plotting\n",
      "avg_mcmc_ci[:, 0] = avg_mcmc_mean - avg_mcmc_ci[:, 0]\n",
      "avg_mcmc_ci[:, 1] = avg_mcmc_ci[:, 1] - avg_mcmc_mean"
     ],
     "language": "python",
     "metadata": {},
     "outputs": [],
     "prompt_number": 10
    },
    {
     "cell_type": "markdown",
     "metadata": {},
     "source": [
      "## (e) Full-season batting average versus MLE from April"
     ]
    },
    {
     "cell_type": "code",
     "collapsed": false,
     "input": [
      "df_full = pd.read_csv('laa_2011_full.txt', sep='\\t')\n",
      "avg_mle_full = df_full.H / df_full.AB.astype(float)"
     ],
     "language": "python",
     "metadata": {},
     "outputs": [],
     "prompt_number": 11
    },
    {
     "cell_type": "code",
     "collapsed": false,
     "input": [
      "fig, (ax1, ax2) = plt.subplots(1, 2, figsize=(14, 8));\n",
      "\n",
      "# MLE: plot full-season average versus April average\n",
      "ax1.scatter(avg_mle_full, avg_mle_april, s=50);\n",
      "ax1.plot([0, 0.5], [0, 0.5], c='r', ls='--');\n",
      "ax1.set_xlabel('Full-season AVG');\n",
      "ax1.set_ylabel('April MLE');\n",
      "ax1.set_title('Full-season AVG vs April MLE');\n",
      "\n",
      "# MCMC: plot full-season average versus April average\n",
      "ax2.errorbar(avg_mle_full, avg_mcmc_mean, yerr=avg_mcmc_ci.T, marker='.', mec='k', ms=15, ls='');\n",
      "ax2.plot([0, 0.5], [0, 0.5], c='r', ls='--');\n",
      "ax2.set_xlabel('Full-season AVG');\n",
      "ax2.set_ylabel('April MCMC mean');\n",
      "ax2.set_title('Full-season AVG vs April MCMC mean');\n",
      "\n",
      "[a.set_aspect('equal') for a in (ax1, ax2)];\n",
      "[a.set_xlim([0, 0.5]) for a in (ax1, ax2)];\n",
      "[a.set_ylim([0, 0.5]) for a in (ax1, ax2)];"
     ],
     "language": "python",
     "metadata": {},
     "outputs": [
      {
       "metadata": {},
       "output_type": "display_data",
       "png": "[encoded data removed]",
       "text": [
        "<matplotlib.figure.Figure at 0x10287be90>"
       ]
      }
     ],
     "prompt_number": 12
    },
    {
     "cell_type": "code",
     "collapsed": false,
     "input": [],
     "language": "python",
     "metadata": {},
     "outputs": []
    }
   ],
   "metadata": {}
  }
 ]
}