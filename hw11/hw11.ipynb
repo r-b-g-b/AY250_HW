{
 "metadata": {
  "name": ""
 },
 "nbformat": 3,
 "nbformat_minor": 0,
 "worksheets": [
  {
   "cells": [
    {
     "cell_type": "code",
     "collapsed": false,
     "input": [
      "import pandas as pd\n",
      "import pymc\n",
      "from pymc import MCMC\n",
      "from IPython.display import HTML"
     ],
     "language": "python",
     "metadata": {},
     "outputs": [],
     "prompt_number": 30
    },
    {
     "cell_type": "markdown",
     "metadata": {},
     "source": [
      "### Load the data"
     ]
    },
    {
     "cell_type": "code",
     "collapsed": false,
     "input": [
      "df = pd.read_csv('laa_2011_april.txt', sep='\\t', index_col=0)\n",
      "HTML(df.head().to_html())"
     ],
     "language": "python",
     "metadata": {},
     "outputs": [
      {
       "html": [
        "<table border=\"1\" class=\"dataframe\">\n",
        "  <thead>\n",
        "    <tr style=\"text-align: right;\">\n",
        "      <th></th>\n",
        "      <th>Player</th>\n",
        "      <th>Team</th>\n",
        "      <th>Pos</th>\n",
        "      <th>G</th>\n",
        "      <th>AB</th>\n",
        "      <th>R</th>\n",
        "      <th>H</th>\n",
        "      <th>2B</th>\n",
        "      <th>3B</th>\n",
        "      <th>HR</th>\n",
        "      <th>RBI</th>\n",
        "      <th>BB</th>\n",
        "      <th>SO</th>\n",
        "      <th>SB</th>\n",
        "      <th>CS</th>\n",
        "      <th>AVG</th>\n",
        "      <th>OBP</th>\n",
        "      <th>SLG</th>\n",
        "      <th>OPS</th>\n",
        "    </tr>\n",
        "    <tr>\n",
        "      <th>RK</th>\n",
        "      <th></th>\n",
        "      <th></th>\n",
        "      <th></th>\n",
        "      <th></th>\n",
        "      <th></th>\n",
        "      <th></th>\n",
        "      <th></th>\n",
        "      <th></th>\n",
        "      <th></th>\n",
        "      <th></th>\n",
        "      <th></th>\n",
        "      <th></th>\n",
        "      <th></th>\n",
        "      <th></th>\n",
        "      <th></th>\n",
        "      <th></th>\n",
        "      <th></th>\n",
        "      <th></th>\n",
        "      <th></th>\n",
        "    </tr>\n",
        "  </thead>\n",
        "  <tbody>\n",
        "    <tr>\n",
        "      <th>1</th>\n",
        "      <td>    Aybar, E</td>\n",
        "      <td> LAA</td>\n",
        "      <td> SS</td>\n",
        "      <td> 12</td>\n",
        "      <td>  47</td>\n",
        "      <td>  3</td>\n",
        "      <td> 17</td>\n",
        "      <td> 3</td>\n",
        "      <td> 0</td>\n",
        "      <td> 0</td>\n",
        "      <td>  3</td>\n",
        "      <td>  0</td>\n",
        "      <td>  4</td>\n",
        "      <td> 4</td>\n",
        "      <td> 0</td>\n",
        "      <td> 0.362</td>\n",
        "      <td> 0.362</td>\n",
        "      <td> 0.426</td>\n",
        "      <td> 0.787</td>\n",
        "    </tr>\n",
        "    <tr>\n",
        "      <th>2</th>\n",
        "      <td>  Izturis, M</td>\n",
        "      <td> LAA</td>\n",
        "      <td> 3B</td>\n",
        "      <td> 20</td>\n",
        "      <td>  81</td>\n",
        "      <td>  8</td>\n",
        "      <td> 25</td>\n",
        "      <td> 7</td>\n",
        "      <td> 0</td>\n",
        "      <td> 2</td>\n",
        "      <td>  8</td>\n",
        "      <td>  6</td>\n",
        "      <td> 14</td>\n",
        "      <td> 2</td>\n",
        "      <td> 2</td>\n",
        "      <td> 0.309</td>\n",
        "      <td> 0.356</td>\n",
        "      <td> 0.469</td>\n",
        "      <td> 0.825</td>\n",
        "    </tr>\n",
        "    <tr>\n",
        "      <th>3</th>\n",
        "      <td> Kendrick, H</td>\n",
        "      <td> LAA</td>\n",
        "      <td> 2B</td>\n",
        "      <td> 26</td>\n",
        "      <td> 104</td>\n",
        "      <td> 19</td>\n",
        "      <td> 32</td>\n",
        "      <td> 6</td>\n",
        "      <td> 1</td>\n",
        "      <td> 6</td>\n",
        "      <td> 12</td>\n",
        "      <td> 11</td>\n",
        "      <td> 22</td>\n",
        "      <td> 1</td>\n",
        "      <td> 0</td>\n",
        "      <td> 0.308</td>\n",
        "      <td> 0.385</td>\n",
        "      <td> 0.558</td>\n",
        "      <td> 0.942</td>\n",
        "    </tr>\n",
        "    <tr>\n",
        "      <th>4</th>\n",
        "      <td> Callaspo, A</td>\n",
        "      <td> LAA</td>\n",
        "      <td> 3B</td>\n",
        "      <td> 24</td>\n",
        "      <td>  89</td>\n",
        "      <td> 13</td>\n",
        "      <td> 27</td>\n",
        "      <td> 3</td>\n",
        "      <td> 0</td>\n",
        "      <td> 2</td>\n",
        "      <td>  8</td>\n",
        "      <td> 12</td>\n",
        "      <td> 10</td>\n",
        "      <td> 0</td>\n",
        "      <td> 0</td>\n",
        "      <td> 0.303</td>\n",
        "      <td> 0.386</td>\n",
        "      <td> 0.404</td>\n",
        "      <td> 0.791</td>\n",
        "    </tr>\n",
        "    <tr>\n",
        "      <th>5</th>\n",
        "      <td>  Bourjos, P</td>\n",
        "      <td> LAA</td>\n",
        "      <td> CF</td>\n",
        "      <td> 26</td>\n",
        "      <td>  90</td>\n",
        "      <td> 10</td>\n",
        "      <td> 27</td>\n",
        "      <td> 5</td>\n",
        "      <td> 4</td>\n",
        "      <td> 2</td>\n",
        "      <td>  9</td>\n",
        "      <td>  5</td>\n",
        "      <td> 28</td>\n",
        "      <td> 2</td>\n",
        "      <td> 4</td>\n",
        "      <td> 0.300</td>\n",
        "      <td> 0.333</td>\n",
        "      <td> 0.511</td>\n",
        "      <td> 0.844</td>\n",
        "    </tr>\n",
        "  </tbody>\n",
        "</table>"
       ],
       "metadata": {},
       "output_type": "pyout",
       "prompt_number": 31,
       "text": [
        "<IPython.core.display.HTML at 0x10959b910>"
       ]
      }
     ],
     "prompt_number": 31
    },
    {
     "cell_type": "markdown",
     "metadata": {},
     "source": [
      "### Describe the model and save it to a file"
     ]
    },
    {
     "cell_type": "code",
     "collapsed": false,
     "input": [
      "%%file BattingAverage.py\n",
      "\n",
      "import pymc\n",
      "import pandas as pd\n",
      "\n",
      "def calc_alpha_beta(mu=0.255, sigma2=0.011):\n",
      "    '''\n",
      "    For a desired mean and variance, calculate the\n",
      "    alpha and beta parameters for the Beta distribution\n",
      "    '''\n",
      "    k = mu/(1-mu)\n",
      "    beta = (k-(sigma2*((1+k)**2))) / (sigma2*((1+k)**3))\n",
      "    alpha = k*beta\n",
      "    return alpha, beta\n",
      "\n",
      "# read the data\n",
      "df = pd.read_csv('laa_2011_april.txt', sep='\\t')\n",
      "atbats = df.AB\n",
      "hits_obs = df.H\n",
      "\n",
      "# league batting average and variance\n",
      "mu = 0.255\n",
      "sigma2 = 0.011\n",
      "alpha, beta = calc_alpha_beta(mu=mu, sigma2=sigma2)\n",
      "\n",
      "# define batting average prior as a Beta distribution\n",
      "avg = pymc.Beta('avg', alpha=alpha, beta=beta, size=len(df))\n",
      "\n",
      "# likelihood\n",
      "hits_pred = pymc.Binomial('xi', n=atbats, p=avg, value=hits_obs)"
     ],
     "language": "python",
     "metadata": {},
     "outputs": [
      {
       "output_type": "stream",
       "stream": "stdout",
       "text": [
        "Overwriting BattingAverage.py\n"
       ]
      }
     ],
     "prompt_number": 22
    },
    {
     "cell_type": "code",
     "collapsed": false,
     "input": [
      "import BattingAverage\n",
      "reload(BattingAverage)\n",
      "M = MCMC(BattingAverage)"
     ],
     "language": "python",
     "metadata": {},
     "outputs": [],
     "prompt_number": 23
    },
    {
     "cell_type": "code",
     "collapsed": false,
     "input": [
      "M.sample(10000, burn=1000)"
     ],
     "language": "python",
     "metadata": {},
     "outputs": [
      {
       "output_type": "stream",
       "stream": "stdout",
       "text": [
        "\r",
        " [--                5%                  ] 573 of 10000 complete in 0.5 sec"
       ]
      },
      {
       "output_type": "stream",
       "stream": "stdout",
       "text": [
        "\r",
        " [----             12%                  ] 1207 of 10000 complete in 1.0 sec"
       ]
      },
      {
       "output_type": "stream",
       "stream": "stdout",
       "text": [
        "\r",
        " [-------          18%                  ] 1892 of 10000 complete in 1.5 sec"
       ]
      },
      {
       "output_type": "stream",
       "stream": "stdout",
       "text": [
        "\r",
        " [---------        25%                  ] 2571 of 10000 complete in 2.0 sec"
       ]
      },
      {
       "output_type": "stream",
       "stream": "stdout",
       "text": [
        "\r",
        " [------------     32%                  ] 3260 of 10000 complete in 2.5 sec"
       ]
      },
      {
       "output_type": "stream",
       "stream": "stdout",
       "text": [
        "\r",
        " [--------------   39%                  ] 3941 of 10000 complete in 3.0 sec"
       ]
      },
      {
       "output_type": "stream",
       "stream": "stdout",
       "text": [
        "\r",
        " [-----------------46%                  ] 4628 of 10000 complete in 3.5 sec"
       ]
      },
      {
       "output_type": "stream",
       "stream": "stdout",
       "text": [
        "\r",
        " [-----------------53%                  ] 5321 of 10000 complete in 4.0 sec"
       ]
      },
      {
       "output_type": "stream",
       "stream": "stdout",
       "text": [
        "\r",
        " [-----------------60%--                ] 6011 of 10000 complete in 4.5 sec"
       ]
      },
      {
       "output_type": "stream",
       "stream": "stdout",
       "text": [
        "\r",
        " [-----------------66%-----             ] 6699 of 10000 complete in 5.0 sec"
       ]
      },
      {
       "output_type": "stream",
       "stream": "stdout",
       "text": [
        "\r",
        " [-----------------73%--------          ] 7388 of 10000 complete in 5.5 sec"
       ]
      },
      {
       "output_type": "stream",
       "stream": "stdout",
       "text": [
        "\r",
        " [-----------------80%----------        ] 8053 of 10000 complete in 6.0 sec"
       ]
      },
      {
       "output_type": "stream",
       "stream": "stdout",
       "text": [
        "\r",
        " [-----------------87%-------------     ] 8707 of 10000 complete in 6.5 sec"
       ]
      },
      {
       "output_type": "stream",
       "stream": "stdout",
       "text": [
        "\r",
        " [-----------------93%---------------   ] 9377 of 10000 complete in 7.0 sec"
       ]
      },
      {
       "output_type": "stream",
       "stream": "stdout",
       "text": [
        "\r",
        " [-----------------100%-----------------] 10000 of 10000 complete in 7.5 sec"
       ]
      }
     ],
     "prompt_number": 24
    },
    {
     "cell_type": "code",
     "collapsed": false,
     "input": [
      "M.stats()"
     ],
     "language": "python",
     "metadata": {},
     "outputs": [
      {
       "metadata": {},
       "output_type": "pyout",
       "prompt_number": 25,
       "text": [
        "{'avg': {'95% HPD interval': array([[ 0.05706157,  0.45198572],\n",
        "       [ 0.06721193,  0.45757045],\n",
        "       [ 0.06743638,  0.46305852],\n",
        "       [ 0.06929341,  0.46667349],\n",
        "       [ 0.06460477,  0.45450881],\n",
        "       [ 0.07067542,  0.46610982],\n",
        "       [ 0.07342137,  0.46695589],\n",
        "       [ 0.06546069,  0.46248614],\n",
        "       [ 0.06504056,  0.46020056],\n",
        "       [ 0.06291356,  0.45154864],\n",
        "       [ 0.07330107,  0.46474817],\n",
        "       [ 0.07050722,  0.46960397],\n",
        "       [ 0.05786448,  0.45022161]]),\n",
        "  'mc error': array([ 0.00100673,  0.00107565,  0.00099511,  0.00116044,  0.00119486,\n",
        "        0.0011737 ,  0.00120745,  0.00117791,  0.00129559,  0.0010122 ,\n",
        "        0.00122789,  0.00099439,  0.00092551]),\n",
        "  'mean': array([ 0.2547837 ,  0.25546364,  0.25706977,  0.25635372,  0.25418066,\n",
        "        0.25604244,  0.25587072,  0.25653189,  0.25535202,  0.25513082,\n",
        "        0.25469322,  0.25659382,  0.25403817]),\n",
        "  'n': 9000,\n",
        "  'quantiles': {2.5: array([ 0.07992807,  0.08350183,  0.08214458,  0.08119322,  0.08322701,\n",
        "        0.08381277,  0.08128974,  0.08247272,  0.08317479,  0.08254936,\n",
        "        0.08291517,  0.08115041,  0.07957507]),\n",
        "   25: array([ 0.17632522,  0.1775482 ,  0.17927311,  0.17853096,  0.17642389,\n",
        "        0.17782125,  0.17715398,  0.17906491,  0.17774901,  0.1778962 ,\n",
        "        0.17666489,  0.18050372,  0.17659851]),\n",
        "   50: array([ 0.24451591,  0.24576521,  0.24761595,  0.24616867,  0.24386191,\n",
        "        0.2451894 ,  0.24571012,  0.24494919,  0.24397716,  0.24452769,\n",
        "        0.24312576,  0.24620878,  0.24626482]),\n",
        "   75: array([ 0.32319237,  0.32263167,  0.3242345 ,  0.3237118 ,  0.32015407,\n",
        "        0.32475369,  0.32443676,  0.32362296,  0.3222632 ,  0.32066142,\n",
        "        0.324239  ,  0.32164417,  0.32108661]),\n",
        "   97.5: array([ 0.49043756,  0.48437107,  0.48578484,  0.48945416,  0.48215333,\n",
        "        0.48651404,  0.48483687,  0.49208052,  0.48769425,  0.48224317,\n",
        "        0.48393262,  0.49040587,  0.48015232])},\n",
        "  'standard deviation': array([ 0.10535064,  0.10485216,  0.10507925,  0.10571439,  0.10449505,\n",
        "        0.10557909,  0.10587021,  0.10583999,  0.10578079,  0.10427601,\n",
        "        0.10504438,  0.10496115,  0.10375843])},\n",
        " 'xi': {'95% HPD interval': array([[  1.,  22.],\n",
        "       [  5.,  39.],\n",
        "       [  5.,  49.],\n",
        "       [  4.,  42.],\n",
        "       [  4.,  42.],\n",
        "       [  1.,  21.],\n",
        "       [  4.,  42.],\n",
        "       [  0.,   5.],\n",
        "       [  3.,  39.],\n",
        "       [  4.,  47.],\n",
        "       [  6.,  50.],\n",
        "       [  2.,  22.],\n",
        "       [  0.,   5.]]),\n",
        "  'mc error': array([ 0.05356954,  0.09654264,  0.12181387,  0.10651847,  0.11677841,\n",
        "        0.05791216,  0.11247632,  0.01534402,  0.11885321,  0.11166825,\n",
        "        0.13813606,  0.05430256,  0.01353085]),\n",
        "  'mean': array([ 11.96255556,  20.62555556,  26.67588889,  22.83866667,\n",
        "        22.92111111,  11.28066667,  22.81733333,   2.04311111,\n",
        "        21.49222222,  26.303     ,  26.81355556,  11.81566667,   2.03455556]),\n",
        "  'n': 9000,\n",
        "  'quantiles': {2.5: array([ 3.,  5.,  7.,  6.,  6.,  2.,  6.,  0.,  6.,  7.,  8.,  3.,  0.]),\n",
        "   25: array([  8.,  14.,  18.,  15.,  15.,   7.,  15.,   1.,  14.,  18.,  18.,\n",
        "         8.,   1.]),\n",
        "   50: array([ 11.,  20.,  25.,  22.,  22.,  11.,  22.,   2.,  21.,  25.,  26.,\n",
        "        11.,   2.]),\n",
        "   75: array([ 16.,  27.,  34.,  29.,  29.,  15.,  29.,   3.,  28.,  34.,  34.,\n",
        "        15.,   3.]),\n",
        "   97.5: array([ 25.,  41.,  53.,  46.,  45.,  23.,  45.,   5.,  42.,  52.,  53.,\n",
        "        24.,   5.])},\n",
        "  'standard deviation': array([  5.71748178,   9.28474329,  11.71920346,  10.21239848,\n",
        "        10.19931364,   5.41349175,  10.28221602,   1.4504127 ,\n",
        "         9.57432594,  11.57297004,  11.8526469 ,   5.59536704,   1.46728219])}}"
       ]
      }
     ],
     "prompt_number": 25
    },
    {
     "cell_type": "code",
     "collapsed": false,
     "input": [
      "MLE = df.H / df.AB.astype(float)\n",
      "print MLE"
     ],
     "language": "python",
     "metadata": {},
     "outputs": [
      {
       "output_type": "stream",
       "stream": "stdout",
       "text": [
        "RK\n",
        "1     0.361702\n",
        "2     0.308642\n",
        "3     0.307692\n",
        "4     0.303371\n",
        "5     0.300000\n",
        "6     0.272727\n",
        "7     0.258427\n",
        "8     0.250000\n",
        "8     0.250000\n",
        "10    0.213592\n",
        "11    0.171429\n",
        "12    0.152174\n",
        "14    0.125000\n",
        "dtype: float64\n"
       ]
      }
     ],
     "prompt_number": 34
    },
    {
     "cell_type": "code",
     "collapsed": false,
     "input": [],
     "language": "python",
     "metadata": {},
     "outputs": []
    }
   ],
   "metadata": {}
  }
 ]
}