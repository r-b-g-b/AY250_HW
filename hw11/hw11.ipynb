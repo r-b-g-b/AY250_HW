{
 "metadata": {
  "name": ""
 },
 "nbformat": 3,
 "nbformat_minor": 0,
 "worksheets": [
  {
   "cells": [
    {
     "cell_type": "code",
     "collapsed": false,
     "input": [
      "import pandas as pd\n",
      "import pymc\n",
      "from pymc import MCMC\n",
      "from IPython.display import HTML"
     ],
     "language": "python",
     "metadata": {},
     "outputs": [],
     "prompt_number": 30
    },
    {
     "cell_type": "markdown",
     "metadata": {},
     "source": [
      "### Load the data"
     ]
    },
    {
     "cell_type": "code",
     "collapsed": false,
     "input": [
      "df = pd.read_csv('laa_2011_april.txt', sep='\\t', index_col=0)\n",
      "HTML(df.head().to_html())"
     ],
     "language": "python",
     "metadata": {},
     "outputs": [
      {
       "html": [
        "<table border=\"1\" class=\"dataframe\">\n",
        "  <thead>\n",
        "    <tr style=\"text-align: right;\">\n",
        "      <th></th>\n",
        "      <th>Player</th>\n",
        "      <th>Team</th>\n",
        "      <th>Pos</th>\n",
        "      <th>G</th>\n",
        "      <th>AB</th>\n",
        "      <th>R</th>\n",
        "      <th>H</th>\n",
        "      <th>2B</th>\n",
        "      <th>3B</th>\n",
        "      <th>HR</th>\n",
        "      <th>RBI</th>\n",
        "      <th>BB</th>\n",
        "      <th>SO</th>\n",
        "      <th>SB</th>\n",
        "      <th>CS</th>\n",
        "      <th>AVG</th>\n",
        "      <th>OBP</th>\n",
        "      <th>SLG</th>\n",
        "      <th>OPS</th>\n",
        "    </tr>\n",
        "    <tr>\n",
        "      <th>RK</th>\n",
        "      <th></th>\n",
        "      <th></th>\n",
        "      <th></th>\n",
        "      <th></th>\n",
        "      <th></th>\n",
        "      <th></th>\n",
        "      <th></th>\n",
        "      <th></th>\n",
        "      <th></th>\n",
        "      <th></th>\n",
        "      <th></th>\n",
        "      <th></th>\n",
        "      <th></th>\n",
        "      <th></th>\n",
        "      <th></th>\n",
        "      <th></th>\n",
        "      <th></th>\n",
        "      <th></th>\n",
        "      <th></th>\n",
        "    </tr>\n",
        "  </thead>\n",
        "  <tbody>\n",
        "    <tr>\n",
        "      <th>1</th>\n",
        "      <td>    Aybar, E</td>\n",
        "      <td> LAA</td>\n",
        "      <td> SS</td>\n",
        "      <td> 12</td>\n",
        "      <td>  47</td>\n",
        "      <td>  3</td>\n",
        "      <td> 17</td>\n",
        "      <td> 3</td>\n",
        "      <td> 0</td>\n",
        "      <td> 0</td>\n",
        "      <td>  3</td>\n",
        "      <td>  0</td>\n",
        "      <td>  4</td>\n",
        "      <td> 4</td>\n",
        "      <td> 0</td>\n",
        "      <td> 0.362</td>\n",
        "      <td> 0.362</td>\n",
        "      <td> 0.426</td>\n",
        "      <td> 0.787</td>\n",
        "    </tr>\n",
        "    <tr>\n",
        "      <th>2</th>\n",
        "      <td>  Izturis, M</td>\n",
        "      <td> LAA</td>\n",
        "      <td> 3B</td>\n",
        "      <td> 20</td>\n",
        "      <td>  81</td>\n",
        "      <td>  8</td>\n",
        "      <td> 25</td>\n",
        "      <td> 7</td>\n",
        "      <td> 0</td>\n",
        "      <td> 2</td>\n",
        "      <td>  8</td>\n",
        "      <td>  6</td>\n",
        "      <td> 14</td>\n",
        "      <td> 2</td>\n",
        "      <td> 2</td>\n",
        "      <td> 0.309</td>\n",
        "      <td> 0.356</td>\n",
        "      <td> 0.469</td>\n",
        "      <td> 0.825</td>\n",
        "    </tr>\n",
        "    <tr>\n",
        "      <th>3</th>\n",
        "      <td> Kendrick, H</td>\n",
        "      <td> LAA</td>\n",
        "      <td> 2B</td>\n",
        "      <td> 26</td>\n",
        "      <td> 104</td>\n",
        "      <td> 19</td>\n",
        "      <td> 32</td>\n",
        "      <td> 6</td>\n",
        "      <td> 1</td>\n",
        "      <td> 6</td>\n",
        "      <td> 12</td>\n",
        "      <td> 11</td>\n",
        "      <td> 22</td>\n",
        "      <td> 1</td>\n",
        "      <td> 0</td>\n",
        "      <td> 0.308</td>\n",
        "      <td> 0.385</td>\n",
        "      <td> 0.558</td>\n",
        "      <td> 0.942</td>\n",
        "    </tr>\n",
        "    <tr>\n",
        "      <th>4</th>\n",
        "      <td> Callaspo, A</td>\n",
        "      <td> LAA</td>\n",
        "      <td> 3B</td>\n",
        "      <td> 24</td>\n",
        "      <td>  89</td>\n",
        "      <td> 13</td>\n",
        "      <td> 27</td>\n",
        "      <td> 3</td>\n",
        "      <td> 0</td>\n",
        "      <td> 2</td>\n",
        "      <td>  8</td>\n",
        "      <td> 12</td>\n",
        "      <td> 10</td>\n",
        "      <td> 0</td>\n",
        "      <td> 0</td>\n",
        "      <td> 0.303</td>\n",
        "      <td> 0.386</td>\n",
        "      <td> 0.404</td>\n",
        "      <td> 0.791</td>\n",
        "    </tr>\n",
        "    <tr>\n",
        "      <th>5</th>\n",
        "      <td>  Bourjos, P</td>\n",
        "      <td> LAA</td>\n",
        "      <td> CF</td>\n",
        "      <td> 26</td>\n",
        "      <td>  90</td>\n",
        "      <td> 10</td>\n",
        "      <td> 27</td>\n",
        "      <td> 5</td>\n",
        "      <td> 4</td>\n",
        "      <td> 2</td>\n",
        "      <td>  9</td>\n",
        "      <td>  5</td>\n",
        "      <td> 28</td>\n",
        "      <td> 2</td>\n",
        "      <td> 4</td>\n",
        "      <td> 0.300</td>\n",
        "      <td> 0.333</td>\n",
        "      <td> 0.511</td>\n",
        "      <td> 0.844</td>\n",
        "    </tr>\n",
        "  </tbody>\n",
        "</table>"
       ],
       "metadata": {},
       "output_type": "pyout",
       "prompt_number": 31,
       "text": [
        "<IPython.core.display.HTML at 0x10959b910>"
       ]
      }
     ],
     "prompt_number": 31
    },
    {
     "cell_type": "markdown",
     "metadata": {},
     "source": [
      "### Describe the model and save it to a file"
     ]
    },
    {
     "cell_type": "code",
     "collapsed": false,
     "input": [
      "%%file BattingAverage.py\n",
      "\n",
      "import pymc\n",
      "import pandas as pd\n",
      "\n",
      "def calc_alpha_beta(mu=0.255, sigma2=0.011):\n",
      "    '''\n",
      "    For a desired mean and variance, calculate the\n",
      "    alpha and beta parameters for the Beta distribution\n",
      "    '''\n",
      "    k = mu/(1-mu)\n",
      "    beta = (k-(sigma2*((1+k)**2))) / (sigma2*((1+k)**3))\n",
      "    alpha = k*beta\n",
      "    return alpha, beta\n",
      "\n",
      "# read the data\n",
      "df = pd.read_csv('laa_2011_april.txt', sep='\\t')\n",
      "atbats = df.AB\n",
      "hits_obs = df.H\n",
      "\n",
      "# league batting average and variance\n",
      "mu = 0.255\n",
      "sigma2 = 0.011\n",
      "alpha, beta = calc_alpha_beta(mu=mu, sigma2=sigma2)\n",
      "\n",
      "# define batting average prior as a Beta distribution\n",
      "avg = pymc.Beta('avg', alpha=alpha, beta=beta, size=len(df))\n",
      "    \n",
      "# likelihood\n",
      "hits_pred = pymc.Binomial('hits_pred', n=atbats, p=avg, value=hits_obs, observed=True)"
     ],
     "language": "python",
     "metadata": {},
     "outputs": [
      {
       "output_type": "stream",
       "stream": "stdout",
       "text": [
        "Overwriting BattingAverage.py\n"
       ]
      }
     ],
     "prompt_number": 103
    },
    {
     "cell_type": "code",
     "collapsed": false,
     "input": [
      "import BattingAverage\n",
      "reload(BattingAverage)\n",
      "\n",
      "# initialize the Markov Chain Monte Carlo model\n",
      "M = MCMC(BattingAverage)"
     ],
     "language": "python",
     "metadata": {},
     "outputs": [],
     "prompt_number": 104
    },
    {
     "cell_type": "code",
     "collapsed": false,
     "input": [
      "# draw 10,000 samples from the model, throwing away the first 1,000 to help it converge first\n",
      "M.sample(10000, burn=1000, thin=2)"
     ],
     "language": "python",
     "metadata": {},
     "outputs": [
      {
       "output_type": "stream",
       "stream": "stdout",
       "text": [
        "\r",
        " [------------     32%                  ] 3259 of 10000 complete in 0.5 sec"
       ]
      },
      {
       "output_type": "stream",
       "stream": "stdout",
       "text": [
        "\r",
        " [-----------------65%----              ] 6521 of 10000 complete in 1.0 sec"
       ]
      },
      {
       "output_type": "stream",
       "stream": "stdout",
       "text": [
        "\r",
        " [-----------------99%----------------- ] 9933 of 10000 complete in 1.5 sec"
       ]
      },
      {
       "output_type": "stream",
       "stream": "stdout",
       "text": [
        "\r",
        " [-----------------100%-----------------] 10000 of 10000 complete in 1.5 sec"
       ]
      }
     ],
     "prompt_number": 105
    },
    {
     "cell_type": "code",
     "collapsed": false,
     "input": [
      "M.stats()"
     ],
     "language": "python",
     "metadata": {},
     "outputs": [
      {
       "metadata": {},
       "output_type": "pyout",
       "prompt_number": 106,
       "text": [
        "{'avg': {'95% HPD interval': array([[ 0.22488443,  0.44630893],\n",
        "       [ 0.20970564,  0.38272139],\n",
        "       [ 0.22022669,  0.37270347],\n",
        "       [ 0.20325075,  0.38059677],\n",
        "       [ 0.20697655,  0.3791558 ],\n",
        "       [ 0.17447203,  0.39255315],\n",
        "       [ 0.18060944,  0.33845315],\n",
        "       [ 0.08095925,  0.42391823],\n",
        "       [ 0.16620548,  0.33296346],\n",
        "       [ 0.14681957,  0.29021431],\n",
        "       [ 0.11616611,  0.25675926],\n",
        "       [ 0.0984703 ,  0.28254512],\n",
        "       [ 0.08428693,  0.41626275]]),\n",
        "  'mc error': array([ 0.00337028,  0.00273844,  0.00187345,  0.00324472,  0.00301774,\n",
        "        0.00422283,  0.00227902,  0.00623297,  0.00421061,  0.00171532,\n",
        "        0.00162869,  0.00295647,  0.00897964]),\n",
        "  'mean': array([ 0.33443829,  0.2940561 ,  0.29814252,  0.29676684,  0.29479606,\n",
        "        0.2857466 ,  0.25681658,  0.25056582,  0.25164423,  0.21971005,\n",
        "        0.18353022,  0.17839868,  0.21817994]),\n",
        "  'n': 4500,\n",
        "  'quantiles': {2.5: array([ 0.2260622 ,  0.20888825,  0.22583236,  0.21029532,  0.21127961,\n",
        "        0.18707822,  0.17999085,  0.09589563,  0.16284705,  0.15166997,\n",
        "        0.11909667,  0.09304634,  0.08069028]),\n",
        "   25: array([ 0.29349627,  0.26485672,  0.27050736,  0.26368553,  0.26298324,\n",
        "        0.24556894,  0.2301884 ,  0.1849621 ,  0.22327535,  0.1927868 ,\n",
        "        0.15727493,  0.14482763,  0.14757958]),\n",
        "   50: array([ 0.33170861,  0.29263606,  0.29622767,  0.29503213,  0.29542322,\n",
        "        0.28135769,  0.25668294,  0.24347775,  0.25305448,  0.218634  ,\n",
        "        0.18120945,  0.17327702,  0.20628842]),\n",
        "   75: array([ 0.37244914,  0.32267808,  0.32298118,  0.32757079,  0.32525529,\n",
        "        0.32165215,  0.28307819,  0.3062826 ,  0.28448618,  0.24434272,\n",
        "        0.20767654,  0.20836122,  0.26966555]),\n",
        "   97.5: array([ 0.44959366,  0.38223236,  0.37956529,  0.39227914,  0.38508351,\n",
        "        0.4054125 ,  0.33835377,  0.44817569,  0.33145429,  0.2957796 ,\n",
        "        0.26126325,  0.27975064,  0.41335423])},\n",
        "  'standard deviation': array([ 0.0575463 ,  0.04318229,  0.03963588,  0.04606126,  0.04462647,\n",
        "        0.05636994,  0.0396402 ,  0.09080302,  0.04530174,  0.03785729,\n",
        "        0.03633956,  0.04746565,  0.09179886])},\n",
        " 'avg_pred': {'95% HPD interval': array([ 0.17168043,  0.17168043]),\n",
        "  'mc error': 2.2204460492503132e-17,\n",
        "  'mean': 0.17168043130936184,\n",
        "  'n': 4500,\n",
        "  'quantiles': {2.5: 0.17168043130935356,\n",
        "   25: 0.17168043130935356,\n",
        "   50: 0.17168043130935356,\n",
        "   75: 0.17168043130935356,\n",
        "   97.5: 0.17168043130935356},\n",
        "  'standard deviation': 8.2711615334574162e-15}}"
       ]
      }
     ],
     "prompt_number": 106
    },
    {
     "cell_type": "markdown",
     "metadata": {},
     "source": [
      "### (a) Maximum Likelihood Estimate of batting averages"
     ]
    },
    {
     "cell_type": "code",
     "collapsed": false,
     "input": [
      "avg_mle_april = df.H / df.AB.astype(float)\n",
      "print avg_mle_april"
     ],
     "language": "python",
     "metadata": {},
     "outputs": [
      {
       "output_type": "stream",
       "stream": "stdout",
       "text": [
        "RK\n",
        "1     0.361702\n",
        "2     0.308642\n",
        "3     0.307692\n",
        "4     0.303371\n",
        "5     0.300000\n",
        "6     0.272727\n",
        "7     0.258427\n",
        "8     0.250000\n",
        "8     0.250000\n",
        "10    0.213592\n",
        "11    0.171429\n",
        "12    0.152174\n",
        "14    0.125000\n",
        "dtype: float64\n"
       ]
      }
     ],
     "prompt_number": 107
    },
    {
     "cell_type": "markdown",
     "metadata": {},
     "source": [
      "### (e) Full-season batting average versus MLE from April"
     ]
    },
    {
     "cell_type": "code",
     "collapsed": false,
     "input": [
      "df_full = pd.read_csv('laa_2011_full.txt', sep='\\t')"
     ],
     "language": "python",
     "metadata": {},
     "outputs": [],
     "prompt_number": 108
    },
    {
     "cell_type": "code",
     "collapsed": false,
     "input": [
      "HTML(df_full.head().to_html())"
     ],
     "language": "python",
     "metadata": {},
     "outputs": [
      {
       "html": [
        "<table border=\"1\" class=\"dataframe\">\n",
        "  <thead>\n",
        "    <tr style=\"text-align: right;\">\n",
        "      <th></th>\n",
        "      <th>RK</th>\n",
        "      <th>Player</th>\n",
        "      <th>Team</th>\n",
        "      <th>Pos</th>\n",
        "      <th>G</th>\n",
        "      <th>AB</th>\n",
        "      <th>R</th>\n",
        "      <th>H</th>\n",
        "      <th>2B</th>\n",
        "      <th>3B</th>\n",
        "      <th>HR</th>\n",
        "      <th>RBI</th>\n",
        "      <th>BB</th>\n",
        "      <th>SO</th>\n",
        "      <th>SB</th>\n",
        "      <th>CS</th>\n",
        "      <th>AVG</th>\n",
        "      <th>OBP</th>\n",
        "      <th>SLG</th>\n",
        "      <th>OPS</th>\n",
        "    </tr>\n",
        "  </thead>\n",
        "  <tbody>\n",
        "    <tr>\n",
        "      <th>0</th>\n",
        "      <td> 5</td>\n",
        "      <td> Callaspo, A</td>\n",
        "      <td> LAA</td>\n",
        "      <td> 3B</td>\n",
        "      <td> 141</td>\n",
        "      <td> 475</td>\n",
        "      <td> 54</td>\n",
        "      <td> 137</td>\n",
        "      <td> 23</td>\n",
        "      <td>  0</td>\n",
        "      <td>  6</td>\n",
        "      <td> 46</td>\n",
        "      <td> 58</td>\n",
        "      <td>  48</td>\n",
        "      <td>  8</td>\n",
        "      <td> 1</td>\n",
        "      <td> 0.288</td>\n",
        "      <td> 0.366</td>\n",
        "      <td> 0.375</td>\n",
        "      <td> 0.740</td>\n",
        "    </tr>\n",
        "    <tr>\n",
        "      <th>1</th>\n",
        "      <td> 6</td>\n",
        "      <td> Kendrick, H</td>\n",
        "      <td> LAA</td>\n",
        "      <td> 2B</td>\n",
        "      <td> 140</td>\n",
        "      <td> 537</td>\n",
        "      <td> 86</td>\n",
        "      <td> 153</td>\n",
        "      <td> 30</td>\n",
        "      <td>  6</td>\n",
        "      <td> 18</td>\n",
        "      <td> 63</td>\n",
        "      <td> 33</td>\n",
        "      <td> 119</td>\n",
        "      <td> 14</td>\n",
        "      <td> 6</td>\n",
        "      <td> 0.285</td>\n",
        "      <td> 0.338</td>\n",
        "      <td> 0.464</td>\n",
        "      <td> 0.802</td>\n",
        "    </tr>\n",
        "    <tr>\n",
        "      <th>2</th>\n",
        "      <td> 7</td>\n",
        "      <td>    Aybar, E</td>\n",
        "      <td> LAA</td>\n",
        "      <td> SS</td>\n",
        "      <td> 143</td>\n",
        "      <td> 556</td>\n",
        "      <td> 71</td>\n",
        "      <td> 155</td>\n",
        "      <td> 33</td>\n",
        "      <td>  8</td>\n",
        "      <td> 10</td>\n",
        "      <td> 59</td>\n",
        "      <td> 31</td>\n",
        "      <td>  68</td>\n",
        "      <td> 30</td>\n",
        "      <td> 6</td>\n",
        "      <td> 0.279</td>\n",
        "      <td> 0.322</td>\n",
        "      <td> 0.421</td>\n",
        "      <td> 0.743</td>\n",
        "    </tr>\n",
        "    <tr>\n",
        "      <th>3</th>\n",
        "      <td> 8</td>\n",
        "      <td>  Izturis, M</td>\n",
        "      <td> LAA</td>\n",
        "      <td> 3B</td>\n",
        "      <td> 122</td>\n",
        "      <td> 449</td>\n",
        "      <td> 51</td>\n",
        "      <td> 124</td>\n",
        "      <td> 35</td>\n",
        "      <td>  0</td>\n",
        "      <td>  5</td>\n",
        "      <td> 38</td>\n",
        "      <td> 33</td>\n",
        "      <td>  65</td>\n",
        "      <td>  9</td>\n",
        "      <td> 6</td>\n",
        "      <td> 0.276</td>\n",
        "      <td> 0.334</td>\n",
        "      <td> 0.388</td>\n",
        "      <td> 0.722</td>\n",
        "    </tr>\n",
        "    <tr>\n",
        "      <th>4</th>\n",
        "      <td> 9</td>\n",
        "      <td>  Bourjos, P</td>\n",
        "      <td> LAA</td>\n",
        "      <td> CF</td>\n",
        "      <td> 147</td>\n",
        "      <td> 502</td>\n",
        "      <td> 72</td>\n",
        "      <td> 136</td>\n",
        "      <td> 26</td>\n",
        "      <td> 11</td>\n",
        "      <td> 12</td>\n",
        "      <td> 43</td>\n",
        "      <td> 32</td>\n",
        "      <td> 124</td>\n",
        "      <td> 22</td>\n",
        "      <td> 9</td>\n",
        "      <td> 0.271</td>\n",
        "      <td> 0.327</td>\n",
        "      <td> 0.438</td>\n",
        "      <td> 0.765</td>\n",
        "    </tr>\n",
        "  </tbody>\n",
        "</table>"
       ],
       "metadata": {},
       "output_type": "pyout",
       "prompt_number": 109,
       "text": [
        "<IPython.core.display.HTML at 0x10a599fd0>"
       ]
      }
     ],
     "prompt_number": 109
    },
    {
     "cell_type": "code",
     "collapsed": false,
     "input": [
      "avg_mle_full = df_full.H / df_full.AB.astype(float)\n",
      "print avg_mle_full"
     ],
     "language": "python",
     "metadata": {},
     "outputs": [
      {
       "output_type": "stream",
       "stream": "stdout",
       "text": [
        "0     0.288421\n",
        "1     0.284916\n",
        "2     0.278777\n",
        "3     0.276169\n",
        "4     0.270916\n",
        "5     0.262069\n",
        "6     0.254174\n",
        "7     0.252988\n",
        "8     0.217822\n",
        "9     0.209040\n",
        "10    0.189189\n",
        "11    0.174089\n",
        "12    0.153846\n",
        "dtype: float64\n"
       ]
      }
     ],
     "prompt_number": 110
    },
    {
     "cell_type": "code",
     "collapsed": false,
     "input": [
      "# plot full-season average versus April average\n",
      "fig, ax = plt.subplots(figsize=(6, 6));\n",
      "ax.scatter(avg_mle_full, avg_mle_april);\n",
      "ax.plot([0, 0.5], [0, 0.5], c='r', ls='--');\n",
      "ax.set_xlabel('Full-season AVG');\n",
      "ax.set_ylabel('April AVG');\n",
      "ax.set_title('MLE estimate comparison\\nApril vs Full-season');\n",
      "ax.set_aspect('equal');\n",
      "ax.set_xlim([0, 0.5]);\n",
      "ax.set_ylim([0, 0.5]);"
     ],
     "language": "python",
     "metadata": {},
     "outputs": [
      {
       "metadata": {},
       "output_type": "display_data",
       "png": "[encoded data removed]",
       "text": [
        "<matplotlib.figure.Figure at 0x10a574650>"
       ]
      }
     ],
     "prompt_number": 111
    },
    {
     "cell_type": "code",
     "collapsed": false,
     "input": [
      "avg_mcmc_mean = M.stats()['avg']['mean']\n",
      "avg_mcmc_ci = M.stats()['avg']['95% HPD interval']\n",
      "avg_mcmc_ci[:, 0] = avg_mcmc_mean - avg_mcmc_ci[:, 0]\n",
      "avg_mcmc_ci[:, 1] = avg_mcmc_ci[:, 1] - avg_mcmc_mean\n",
      "print avg_mcmc_mean\n",
      "print avg_mcmc_ci"
     ],
     "language": "python",
     "metadata": {},
     "outputs": [
      {
       "output_type": "stream",
       "stream": "stdout",
       "text": [
        "[ 0.33443829  0.2940561   0.29814252  0.29676684  0.29479606  0.2857466\n",
        "  0.25681658  0.25056582  0.25164423  0.21971005  0.18353022  0.17839868\n",
        "  0.21817994]\n",
        "[[ 0.10955386  0.11187064]\n",
        " [ 0.08435047  0.08866528]\n",
        " [ 0.07791583  0.07456095]\n",
        " [ 0.09351609  0.08382992]\n",
        " [ 0.08781951  0.08435974]\n",
        " [ 0.11127456  0.10680655]\n",
        " [ 0.07620714  0.08163657]\n",
        " [ 0.16960656  0.17335241]\n",
        " [ 0.08543875  0.08131923]\n",
        " [ 0.07289048  0.07050426]\n",
        " [ 0.0673641   0.07322904]\n",
        " [ 0.07992838  0.10414644]\n",
        " [ 0.13389301  0.19808281]]\n"
       ]
      }
     ],
     "prompt_number": 112
    },
    {
     "cell_type": "code",
     "collapsed": false,
     "input": [
      "# plot full-season average versus April average\n",
      "fig, ax = plt.subplots(figsize=(6, 6));\n",
      "ax.errorbar(avg_mle_full, avg_mcmc_mean, yerr=avg_mcmc_ci.T, marker='.', ls='');\n",
      "ax.plot([0, 0.5], [0, 0.5], c='r', ls='--');\n",
      "ax.set_xlabel('Full-season AVG');\n",
      "ax.set_ylabel('April AVG');\n",
      "ax.set_title('MLE estimate comparison\\nApril vs Full-season');\n",
      "ax.set_aspect('equal');\n",
      "ax.set_xlim([0, 0.5]);\n",
      "ax.set_ylim([0, 0.5]);"
     ],
     "language": "python",
     "metadata": {},
     "outputs": [
      {
       "metadata": {},
       "output_type": "display_data",
       "png": "[encoded data removed]",
       "text": [
        "<matplotlib.figure.Figure at 0x10a593c50>"
       ]
      }
     ],
     "prompt_number": 113
    },
    {
     "cell_type": "code",
     "collapsed": false,
     "input": [],
     "language": "python",
     "metadata": {},
     "outputs": []
    }
   ],
   "metadata": {}
  }
 ]
}